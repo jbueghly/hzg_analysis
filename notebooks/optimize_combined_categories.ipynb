{
 "cells": [
  {
   "cell_type": "code",
   "execution_count": 3,
   "metadata": {},
   "outputs": [],
   "source": [
    "import numpy as np\n",
    "import pandas as pd\n",
    "import ROOT as r\n",
    "import uproot as ur\n",
    "import pickle\n",
    "from tqdm import tqdm_notebook as tqdm\n",
    "%matplotlib inline \n",
    "import matplotlib.pyplot as plt\n",
    "plt.rc('figure', facecolor='w', figsize=(8,6))\n",
    "plt.rc('axes', labelsize=24)\n",
    "plt.rc('axes', titlesize=24)"
   ]
  },
  {
   "cell_type": "code",
   "execution_count": null,
   "metadata": {},
   "outputs": [],
   "source": [
    "input_file = ur.open('../data/step3_vbf_bdt/output_combined.root')"
   ]
  },
  {
   "cell_type": "markdown",
   "metadata": {},
   "source": [
    "## get background"
   ]
  },
  {
   "cell_type": "code",
   "execution_count": null,
   "metadata": {},
   "outputs": [],
   "source": [
    "df_zjets_16 = input_file['zjets_M50_2016'].pandas.df()\n",
    "df_zjets_17 = input_file['zjets_M50_2017'].pandas.df()\n",
    "df_zjets_18 = input_file['zjets_M50_2018'].pandas.df()\n",
    "df_zjets = pd.concat([df_zjets_16, df_zjets_17, df_zjets_18], sort=False)"
   ]
  },
  {
   "cell_type": "code",
   "execution_count": null,
   "metadata": {},
   "outputs": [],
   "source": [
    "df_zg_16 = input_file['zg_llg_2016'].pandas.df()\n",
    "df_zg_17 = input_file['zg_llg_2017'].pandas.df()\n",
    "df_zg_18 = input_file['zg_llg_2018'].pandas.df()\n",
    "df_zg = pd.concat([df_zg_16, df_zg_17, df_zg_18], sort=False)"
   ]
  },
  {
   "cell_type": "code",
   "execution_count": null,
   "metadata": {},
   "outputs": [],
   "source": [
    "df_zg_ewk_16 = input_file['zg_ewk_2016'].pandas.df()\n",
    "df_zg_ewk_17 = input_file['zg_ewk_2017'].pandas.df()\n",
    "df_zg_ewk_18 = input_file['zg_ewk_2018'].pandas.df()\n",
    "df_zg_ewk = pd.concat([df_zg_ewk_16, df_zg_ewk_17, df_zg_ewk_18], sort=False)"
   ]
  },
  {
   "cell_type": "code",
   "execution_count": null,
   "metadata": {},
   "outputs": [],
   "source": [
    "df_ttjets_16 = input_file['ttjets_2016'].pandas.df()\n",
    "df_ttjets_17 = input_file['ttjets_2017'].pandas.df()\n",
    "df_ttjets_18 = input_file['ttjets_2018'].pandas.df()\n",
    "df_ttjets = pd.concat([df_ttjets_16, df_ttjets_17, df_ttjets_18], sort=False)"
   ]
  },
  {
   "cell_type": "code",
   "execution_count": null,
   "metadata": {},
   "outputs": [],
   "source": [
    "df_background = pd.concat([df_zjets, df_zg, df_zg_ewk, df_ttjets], sort=False)\n",
    "#df_background = pd.concat([df_zjets, df_zg], sort=False)"
   ]
  },
  {
   "cell_type": "markdown",
   "metadata": {},
   "source": [
    "## get signal"
   ]
  },
  {
   "cell_type": "code",
   "execution_count": null,
   "metadata": {},
   "outputs": [],
   "source": [
    "df_ggh_16 = input_file['hzg_gluglu_M125_2016'].pandas.df()\n",
    "df_ggh_17 = input_file['hzg_gluglu_M125_2017'].pandas.df()\n",
    "df_ggh_18 = input_file['hzg_gluglu_M125_2018'].pandas.df()\n",
    "df_ggh = pd.concat([df_ggh_16, df_ggh_17, df_ggh_18], sort=False)"
   ]
  },
  {
   "cell_type": "code",
   "execution_count": null,
   "metadata": {},
   "outputs": [],
   "source": [
    "df_vbf_16 = input_file['hzg_vbf_M125_2016'].pandas.df()\n",
    "df_vbf_17 = input_file['hzg_vbf_M125_2017'].pandas.df()\n",
    "df_vbf_18 = input_file['hzg_vbf_M125_2018'].pandas.df()\n",
    "df_vbf = pd.concat([df_vbf_16, df_vbf_17, df_vbf_18], sort=False)"
   ]
  },
  {
   "cell_type": "code",
   "execution_count": null,
   "metadata": {},
   "outputs": [],
   "source": [
    "df_wplush_16 = input_file['hzg_wplush_M125_2016'].pandas.df()\n",
    "df_wplush_17 = input_file['hzg_wplush_M125_2017'].pandas.df()\n",
    "df_wplush_18 = input_file['hzg_wplush_M125_2018'].pandas.df()\n",
    "df_wplush = pd.concat([df_wplush_16, df_wplush_17, df_wplush_18], sort=False)"
   ]
  },
  {
   "cell_type": "code",
   "execution_count": null,
   "metadata": {},
   "outputs": [],
   "source": [
    "df_wminush_16 = input_file['hzg_wminush_M125_2016'].pandas.df()\n",
    "df_wminush_17 = input_file['hzg_wminush_M125_2017'].pandas.df()\n",
    "df_wminush_18 = input_file['hzg_wminush_M125_2018'].pandas.df()\n",
    "df_wminush = pd.concat([df_wminush_16, df_wminush_17, df_wminush_18], sort=False)"
   ]
  },
  {
   "cell_type": "code",
   "execution_count": null,
   "metadata": {},
   "outputs": [],
   "source": [
    "df_zh_16 = input_file['hzg_zh_M125_2016'].pandas.df()\n",
    "df_zh_17 = input_file['hzg_zh_M125_2017'].pandas.df()\n",
    "df_zh_18 = input_file['hzg_zh_M125_2018'].pandas.df()\n",
    "df_zh = pd.concat([df_zh_16, df_zh_17, df_zh_18], sort=False)"
   ]
  },
  {
   "cell_type": "code",
   "execution_count": null,
   "metadata": {},
   "outputs": [],
   "source": [
    "df_tth_16 = input_file['hzg_tth_M125_2016'].pandas.df()\n",
    "df_tth_17 = input_file['hzg_tth_M125_2017'].pandas.df()\n",
    "df_tth_18 = input_file['hzg_tth_M125_2018'].pandas.df()\n",
    "df_tth = pd.concat([df_tth_16, df_tth_17, df_tth_18], sort=False)"
   ]
  },
  {
   "cell_type": "code",
   "execution_count": null,
   "metadata": {},
   "outputs": [],
   "source": [
    "df_signal = pd.concat([df_ggh, df_vbf, df_wplush, df_wminush, df_zh, df_tth], sort=False)"
   ]
  },
  {
   "cell_type": "markdown",
   "metadata": {},
   "source": [
    "## get data"
   ]
  },
  {
   "cell_type": "code",
   "execution_count": null,
   "metadata": {},
   "outputs": [],
   "source": [
    "muon_2016B = input_file['muon_2016B'].pandas.df()\n",
    "muon_2016C = input_file['muon_2016C'].pandas.df()\n",
    "muon_2016D = input_file['muon_2016D'].pandas.df()\n",
    "muon_2016E = input_file['muon_2016E'].pandas.df()\n",
    "muon_2016F = input_file['muon_2016F'].pandas.df()\n",
    "muon_2016G = input_file['muon_2016G'].pandas.df()\n",
    "muon_2016H = input_file['muon_2016H'].pandas.df()\n",
    "\n",
    "muon_2016 = pd.concat([muon_2016B, muon_2016C, muon_2016D, muon_2016E, muon_2016F, muon_2016G, muon_2016H], sort=False)"
   ]
  },
  {
   "cell_type": "code",
   "execution_count": null,
   "metadata": {},
   "outputs": [],
   "source": [
    "electron_2016B = input_file['electron_2016B'].pandas.df()\n",
    "electron_2016C = input_file['electron_2016C'].pandas.df()\n",
    "electron_2016D = input_file['electron_2016D'].pandas.df()\n",
    "electron_2016E = input_file['electron_2016E'].pandas.df()\n",
    "electron_2016F = input_file['electron_2016F'].pandas.df()\n",
    "electron_2016G = input_file['electron_2016G'].pandas.df()\n",
    "electron_2016H = input_file['electron_2016H'].pandas.df()\n",
    "\n",
    "electron_2016 = pd.concat([electron_2016B, electron_2016C, electron_2016D, electron_2016E, electron_2016F, electron_2016G, electron_2016H], sort=False)"
   ]
  },
  {
   "cell_type": "code",
   "execution_count": null,
   "metadata": {},
   "outputs": [],
   "source": [
    "muon_2017B = input_file['muon_2017B'].pandas.df()\n",
    "muon_2017C = input_file['muon_2017C'].pandas.df()\n",
    "muon_2017D = input_file['muon_2017D'].pandas.df()\n",
    "muon_2017E = input_file['muon_2017E'].pandas.df()\n",
    "muon_2017F = input_file['muon_2017F'].pandas.df()\n",
    "\n",
    "muon_2017 = pd.concat([muon_2017B, muon_2017C, muon_2017D, muon_2017E, muon_2017F], sort=False)"
   ]
  },
  {
   "cell_type": "code",
   "execution_count": null,
   "metadata": {},
   "outputs": [],
   "source": [
    "electron_2017B = input_file['electron_2017B'].pandas.df()\n",
    "electron_2017C = input_file['electron_2017C'].pandas.df()\n",
    "electron_2017D = input_file['electron_2017D'].pandas.df()\n",
    "electron_2017E = input_file['electron_2017E'].pandas.df()\n",
    "electron_2017F = input_file['electron_2017F'].pandas.df()\n",
    "\n",
    "electron_2017 = pd.concat([electron_2017B, electron_2017C, electron_2017D, electron_2017E, electron_2017F], sort=False)"
   ]
  },
  {
   "cell_type": "code",
   "execution_count": null,
   "metadata": {},
   "outputs": [],
   "source": [
    "muon_2018A = input_file['muon_2018A'].pandas.df()\n",
    "muon_2018B = input_file['muon_2018B'].pandas.df()\n",
    "muon_2018C = input_file['muon_2018C'].pandas.df()\n",
    "muon_2018D = input_file['muon_2018D'].pandas.df()\n",
    "\n",
    "muon_2018 = pd.concat([muon_2018A, muon_2018B, muon_2018C, muon_2018D], sort=False)"
   ]
  },
  {
   "cell_type": "code",
   "execution_count": null,
   "metadata": {},
   "outputs": [],
   "source": [
    "electron_2018A = input_file['electron_2018A'].pandas.df()\n",
    "electron_2018B = input_file['electron_2018B'].pandas.df()\n",
    "electron_2018C = input_file['electron_2018C'].pandas.df()\n",
    "electron_2018D = input_file['electron_2018D'].pandas.df()\n",
    "\n",
    "electron_2018 = pd.concat([electron_2018A, electron_2018B, electron_2018C, electron_2018D], sort=False)"
   ]
  },
  {
   "cell_type": "code",
   "execution_count": null,
   "metadata": {},
   "outputs": [],
   "source": [
    "df_data = pd.concat([muon_2016, muon_2017, muon_2018,\n",
    "                     electron_2016, electron_2017, electron_2018], sort=False)"
   ]
  },
  {
   "cell_type": "markdown",
   "metadata": {},
   "source": [
    "## use only non-TMVA training events for category optimization"
   ]
  },
  {
   "cell_type": "code",
   "execution_count": null,
   "metadata": {},
   "outputs": [],
   "source": [
    "df_signal.query('useTMVA == 0', inplace=True)\n",
    "df_vbf.query('useTMVA == 0', inplace=True)\n",
    "df_background.query('useTMVA == 0', inplace=True)"
   ]
  },
  {
   "cell_type": "markdown",
   "metadata": {},
   "source": [
    "## get cuts for the dijet categories "
   ]
  },
  {
   "cell_type": "code",
   "execution_count": null,
   "metadata": {},
   "outputs": [],
   "source": [
    "dijet_signal = df_vbf.query('isDijetTag == True')\n",
    "dijet_background = df_background.query('isDijetTag == True')\n",
    "dijet_data = df_data.query('isDijetTag == True')"
   ]
  },
  {
   "cell_type": "code",
   "execution_count": null,
   "metadata": {},
   "outputs": [],
   "source": [
    "nbins = 10000\n",
    "fig, ax = plt.subplots()\n",
    "h = ax.hist(dijet_signal['vbf_bdt_james'], bins=np.linspace(-1., 1., num=nbins), density=True,\n",
    "            weights=dijet_signal['eventWeight']*dijet_signal['genWeight']*dijet_signal['mc_sf']*dijet_signal['pt_weight'])\n",
    "#h = ax.hist(dijet_signal['vbf_bdt'], bins=np.linspace(-1., 1., num=nbins), density=True,\n",
    "#            weights=dijet_signal['eventWeight']*dijet_signal['genWeight']*dijet_signal['mc_sf']*dijet_signal['pt_weight'])\n",
    "ax.set_xlabel('VBF BDT score');\n",
    "ax.set_ylabel('Entries / bin (normalized)');"
   ]
  },
  {
   "cell_type": "code",
   "execution_count": null,
   "metadata": {},
   "outputs": [],
   "source": [
    "sig_cdf_dijet = np.cumsum(h[0])/np.sum(h[0])"
   ]
  },
  {
   "cell_type": "code",
   "execution_count": null,
   "metadata": {},
   "outputs": [],
   "source": [
    "fig, ax = plt.subplots()\n",
    "ax.plot((h[1][1:]+h[1][:-1])/2., sig_cdf_dijet);\n",
    "ax.set_xlabel('VBF BDT score');\n",
    "ax.set_ylabel('CDF');"
   ]
  },
  {
   "cell_type": "code",
   "execution_count": null,
   "metadata": {},
   "outputs": [],
   "source": [
    "dijet_signal.loc[:, 'vbf_bdt_james_bin'] = pd.cut(dijet_signal['vbf_bdt_james'], bins = np.linspace(-1.,1.,num=nbins), labels=False).astype('int')\n",
    "dijet_background.loc[:, 'vbf_bdt_james_bin'] = pd.cut(dijet_background['vbf_bdt_james'], bins = np.linspace(-1.,1.,num=nbins), labels=False).astype('int')\n",
    "dijet_data.loc[:, 'vbf_bdt_james_bin'] = pd.cut(dijet_data['vbf_bdt_james'], bins = np.linspace(-1.,1.,num=nbins), labels=False).astype('int')\n",
    "#dijet_signal.loc[:, 'vbf_bdt_bin'] = pd.cut(dijet_signal['vbf_bdt'], bins = np.linspace(-1.,1.,num=nbins), labels=False).astype('int')\n",
    "#dijet_background.loc[:, 'vbf_bdt_bin'] = pd.cut(dijet_background['vbf_bdt'], bins = np.linspace(-1.,1.,num=nbins), labels=False).astype('int')\n",
    "#dijet_data.loc[:, 'vbf_bdt_bin'] = pd.cut(dijet_data['vbf_bdt'], bins = np.linspace(-1.,1.,num=nbins), labels=False).astype('int')"
   ]
  },
  {
   "cell_type": "code",
   "execution_count": null,
   "metadata": {},
   "outputs": [],
   "source": [
    "def get_cdf(b, cdf):\n",
    "    return cdf[b]"
   ]
  },
  {
   "cell_type": "code",
   "execution_count": null,
   "metadata": {},
   "outputs": [],
   "source": [
    "dijet_signal.loc[:, 'transformed_vbf_bdt_james'] = dijet_signal['vbf_bdt_james_bin'].apply(get_cdf, cdf=sig_cdf_dijet)\n",
    "dijet_background.loc[:, 'transformed_vbf_bdt_james'] = dijet_background['vbf_bdt_james_bin'].apply(get_cdf, cdf=sig_cdf_dijet)\n",
    "dijet_data.loc[:, 'transformed_vbf_bdt_james'] = dijet_data['vbf_bdt_james_bin'].apply(get_cdf, cdf=sig_cdf_dijet)\n",
    "#dijet_signal.loc[:, 'transformed_vbf_bdt'] = dijet_signal['vbf_bdt_bin'].apply(get_cdf, cdf=sig_cdf_dijet)\n",
    "#dijet_background.loc[:, 'transformed_vbf_bdt'] = dijet_background['vbf_bdt_bin'].apply(get_cdf, cdf=sig_cdf_dijet)\n",
    "#dijet_data.loc[:, 'transformed_vbf_bdt'] = dijet_data['vbf_bdt_bin'].apply(get_cdf, cdf=sig_cdf_dijet)"
   ]
  },
  {
   "cell_type": "code",
   "execution_count": null,
   "metadata": {},
   "outputs": [],
   "source": [
    "fig, ax = plt.subplots()\n",
    "ax.hist(dijet_signal['transformed_vbf_bdt_james'], bins=np.linspace(0, 1, num=50), histtype='step',\n",
    "        weights=10000*dijet_signal['eventWeight']*dijet_signal['genWeight']*dijet_signal['mc_sf']*dijet_signal['pt_weight']);\n",
    "ax.hist(dijet_background['transformed_vbf_bdt_james'], bins=np.linspace(0, 1, num=50), histtype='step',\n",
    "        weights=dijet_background['eventWeight']*dijet_background['genWeight']*dijet_background['mc_sf']*dijet_background['pt_weight']);\n",
    "#ax.hist(dijet_signal['transformed_vbf_bdt'], bins=np.linspace(0, 1, num=50), histtype='step',\n",
    "#        weights=10000*dijet_signal['eventWeight']*dijet_signal['genWeight']*dijet_signal['mc_sf']*dijet_signal['pt_weight']);\n",
    "#ax.hist(dijet_background['transformed_vbf_bdt'], bins=np.linspace(0, 1, num=50), histtype='step',\n",
    "#        weights=dijet_background['eventWeight']*dijet_background['genWeight']*dijet_background['mc_sf']*dijet_background['pt_weight']);\n",
    "ax.set_xlabel('transformed VBF BDT score');\n",
    "ax.set_ylabel('Entries / bin');\n",
    "ax.legend(['signal*10000', 'background']);\n",
    "ax.grid();"
   ]
  },
  {
   "cell_type": "code",
   "execution_count": null,
   "metadata": {},
   "outputs": [],
   "source": [
    "dijet_signal.query('transformed_vbf_bdt_james > 0.5')['vbf_bdt_james'].min()\n",
    "#dijet_signal.query('transformed_vbf_bdt > 0.5')['vbf_bdt'].min()"
   ]
  },
  {
   "cell_type": "code",
   "execution_count": null,
   "metadata": {},
   "outputs": [],
   "source": [
    "dijet_signal.query('transformed_vbf_bdt_james > 0.3')['vbf_bdt_james'].min()\n",
    "#dijet_signal.query('transformed_vbf_bdt > 0.3')['vbf_bdt'].min()"
   ]
  },
  {
   "cell_type": "code",
   "execution_count": 4,
   "metadata": {},
   "outputs": [],
   "source": [
    "vbf_cut_dict = {}\n",
    "#vbf_cut_dict['James'] = {'dijet_3': -1., \n",
    "#                         'dijet_2': -0.026900219, \n",
    "#                         'dijet_1': 0.14272581\n",
    "#                        }\n",
    "#vbf_cut_dict['James'] = {'dijet_3': -1., \n",
    "#                         'dijet_2': 0.047309462, \n",
    "#                         'dijet_1': 0.13832036\n",
    "#                        }\n",
    "#vbf_cut_dict['James'] = {'dijet_3': -1., \n",
    "#                         'dijet_2': 0.047309462, \n",
    "#                         'dijet_1': 0.13832036\n",
    "#                        }\n",
    "#vbf_cut_dict['James'] = {'dijet_3': -1., \n",
    "#                         'dijet_2': 0.046511907, \n",
    "#                         'dijet_1': 0.13773496\n",
    "#                        }\n",
    "vbf_cut_dict['James'] = {'dijet_3': -1., \n",
    "                         'dijet_2': 0.046511907, \n",
    "                         'dijet_1': 0.13773496\n",
    "                        }\n",
    "vbf_cut_dict['Ming-Yan'] = {'dijet_3': -1., \n",
    "                         'dijet_2': 0.0425, \n",
    "                         'dijet_1': 0.137\n",
    "                        }\n",
    "#vbf_cut_dict['Ming-Yan'] = {'dijet_3': -1, \n",
    "#                            'dijet_2': 0.0425, \n",
    "#                            'dijet_1': 0.137\n",
    "#                           }\n",
    "pickle.dump(vbf_cut_dict, open('../data/mva_cuts/vbf_cuts.pkl', 'wb'))"
   ]
  },
  {
   "cell_type": "markdown",
   "metadata": {},
   "source": [
    "## same thing for untagged"
   ]
  },
  {
   "cell_type": "code",
   "execution_count": null,
   "metadata": {},
   "outputs": [],
   "source": [
    "untagged_signal = df_signal.query('isLeptonTag == False and isDijetTag == False')\n",
    "untagged_background = df_background.query('isLeptonTag == False and isDijetTag == False')\n",
    "untagged_data = df_data.query('isLeptonTag == False and isDijetTag == False')"
   ]
  },
  {
   "cell_type": "code",
   "execution_count": null,
   "metadata": {},
   "outputs": [],
   "source": [
    "nbins = 10000\n",
    "fig, ax = plt.subplots()\n",
    "h = ax.hist(untagged_signal['kin_bdt_james'], bins=np.linspace(-1., 1., num=nbins), density=True, \n",
    "             weights=untagged_signal['eventWeight']*untagged_signal['genWeight']*untagged_signal['mc_sf']*untagged_signal['pt_weight'])\n",
    "#h = ax.hist(untagged_signal['kin_bdt'], bins=np.linspace(-1., 1., num=nbins), density=True, \n",
    "#             weights=untagged_signal['eventWeight']*untagged_signal['genWeight']*untagged_signal['mc_sf']*untagged_signal['pt_weight'])\n",
    "ax.set_xlabel('kinematic BDT score');\n",
    "ax.set_ylabel('Entries / bin (normalized)');\n",
    "ax.grid();"
   ]
  },
  {
   "cell_type": "code",
   "execution_count": null,
   "metadata": {},
   "outputs": [],
   "source": [
    "sig_cdf_kin = np.cumsum(h[0])/np.sum(h[0])\n",
    "\n",
    "fig, ax = plt.subplots()\n",
    "ax.plot((h[1][1:]+h[1][:-1])/2., sig_cdf_kin);\n",
    "ax.set_xlabel('kinematic BDT score');\n",
    "ax.set_ylabel('CDF');\n",
    "ax.grid();"
   ]
  },
  {
   "cell_type": "code",
   "execution_count": null,
   "metadata": {},
   "outputs": [],
   "source": [
    "untagged_signal.loc[:, 'kin_bdt_james_bin'] = pd.cut(untagged_signal['kin_bdt_james'], bins = np.linspace(-1.,1.,num=nbins), labels=False).astype('int')\n",
    "untagged_background.loc[:, 'kin_bdt_james_bin'] = pd.cut(untagged_background['kin_bdt_james'], bins = np.linspace(-1.,1.,num=nbins), labels=False).astype('int')\n",
    "untagged_data.loc[:, 'kin_bdt_james_bin'] = pd.cut(untagged_data['kin_bdt_james'], bins = np.linspace(-1.,1.,num=nbins), labels=False).astype('int')\n",
    "#untagged_signal.loc[:, 'kin_bdt_bin'] = pd.cut(untagged_signal['kin_bdt'], bins = np.linspace(-1.,1.,num=nbins), labels=False).astype('int')\n",
    "#untagged_background.loc[:, 'kin_bdt_bin'] = pd.cut(untagged_background['kin_bdt'], bins = np.linspace(-1.,1.,num=nbins), labels=False).astype('int')\n",
    "#untagged_data.loc[:, 'kin_bdt_bin'] = pd.cut(untagged_data['kin_bdt'], bins = np.linspace(-1.,1.,num=nbins), labels=False).astype('int')"
   ]
  },
  {
   "cell_type": "code",
   "execution_count": null,
   "metadata": {},
   "outputs": [],
   "source": [
    "untagged_signal.loc[:, 'transformed_kin_bdt_james'] = untagged_signal['kin_bdt_james_bin'].apply(get_cdf, cdf=sig_cdf_kin)\n",
    "untagged_background.loc[:, 'transformed_kin_bdt_james'] = untagged_background['kin_bdt_james_bin'].apply(get_cdf, cdf=sig_cdf_kin)\n",
    "untagged_data.loc[:, 'transformed_kin_bdt_james'] = untagged_data['kin_bdt_james_bin'].apply(get_cdf, cdf=sig_cdf_kin)\n",
    "#untagged_signal.loc[:, 'transformed_kin_bdt'] = untagged_signal['kin_bdt_bin'].apply(get_cdf, cdf=sig_cdf_kin)\n",
    "#untagged_background.loc[:, 'transformed_kin_bdt'] = untagged_background['kin_bdt_bin'].apply(get_cdf, cdf=sig_cdf_kin)\n",
    "#untagged_data.loc[:, 'transformed_kin_bdt'] = untagged_data['kin_bdt_bin'].apply(get_cdf, cdf=sig_cdf_kin)"
   ]
  },
  {
   "cell_type": "code",
   "execution_count": null,
   "metadata": {},
   "outputs": [],
   "source": [
    "fig, ax = plt.subplots()\n",
    "ax.hist(untagged_signal['transformed_kin_bdt_james'], bins=np.linspace(0, 1, num=50), histtype='step',\n",
    "        weights=10000.*untagged_signal['eventWeight']*untagged_signal['genWeight']*untagged_signal['mc_sf']*untagged_signal['pt_weight']);\n",
    "ax.hist(untagged_background['transformed_kin_bdt_james'], bins=np.linspace(0, 1, num=50), histtype='step',\n",
    "        weights=untagged_background['eventWeight']*untagged_background['genWeight']*untagged_background['mc_sf']*untagged_background['pt_weight']);\n",
    "#ax.hist(untagged_signal['transformed_kin_bdt'], bins=np.linspace(0, 1, num=50), histtype='step',\n",
    "#        weights=10000.*untagged_signal['eventWeight']*untagged_signal['genWeight']*untagged_signal['mc_sf']*untagged_signal['pt_weight']);\n",
    "#ax.hist(untagged_background['transformed_kin_bdt'], bins=np.linspace(0, 1, num=50), histtype='step',\n",
    "#        weights=untagged_background['eventWeight']*untagged_background['genWeight']*untagged_background['mc_sf']*untagged_background['pt_weight']);\n",
    "ax.set_xlabel('transformed kinematic BDT score');\n",
    "ax.set_ylabel('Entries / bin');\n",
    "ax.legend(['signal*10000', 'background']);\n",
    "ax.grid();"
   ]
  },
  {
   "cell_type": "code",
   "execution_count": null,
   "metadata": {},
   "outputs": [],
   "source": [
    "print(untagged_signal.query('transformed_kin_bdt_james > 0.9')['kin_bdt_james'].min())\n",
    "print(untagged_signal.query('transformed_kin_bdt_james > 0.8')['kin_bdt_james'].min())\n",
    "print(untagged_signal.query('transformed_kin_bdt_james > 0.4')['kin_bdt_james'].min())\n",
    "print(untagged_signal.query('transformed_kin_bdt_james > 0.1')['kin_bdt_james'].min())\n",
    "#print(untagged_signal.query('transformed_kin_bdt > 0.9')['kin_bdt'].min())\n",
    "#print(untagged_signal.query('transformed_kin_bdt > 0.8')['kin_bdt'].min())\n",
    "#print(untagged_signal.query('transformed_kin_bdt > 0.4')['kin_bdt'].min())\n",
    "#print(untagged_signal.query('transformed_kin_bdt > 0.1')['kin_bdt'].min())"
   ]
  },
  {
   "cell_type": "code",
   "execution_count": 5,
   "metadata": {},
   "outputs": [],
   "source": [
    "kin_cut_dict = {}\n",
    "#kin_cut_dict['James'] = {'untagged_4': -0.037494726, \n",
    "#                         'untagged_3': 0.025902633, \n",
    "#                         'untagged_2': 0.06730781, \n",
    "#                         'untagged_1': 0.082311645\n",
    "#                        }\n",
    "#kin_cut_dict['James'] = {'untagged_4': -0.039502952, \n",
    "#                         'untagged_3': 0.02810369, \n",
    "#                         'untagged_2': 0.070707306, \n",
    "#                         'untagged_1': 0.08530881\n",
    "#                        }\n",
    "#kin_cut_dict['James'] = {'untagged_4': -0.03729846, \n",
    "#                         'untagged_3': 0.027702842, \n",
    "#                         'untagged_2': 0.06790736, \n",
    "#                         'untagged_1': 0.081114806\n",
    "#                        }\n",
    "kin_cut_dict['James'] = {'untagged_4': -0.03830247,\n",
    "                         'untagged_3': 0.02670468, \n",
    "                         'untagged_2': 0.06750699, \n",
    "                         'untagged_1': 0.082508385\n",
    "                        }\n",
    "kin_cut_dict['Ming-Yan'] = {'untagged_4': -0.038,\n",
    "                            'untagged_3': 0.0233, \n",
    "                            'untagged_2': 0.0628, \n",
    "                            'untagged_1': 0.0766\n",
    "                           }\n",
    "pickle.dump(kin_cut_dict, open('../data/mva_cuts/kin_cuts.pkl', 'wb'))"
   ]
  },
  {
   "cell_type": "markdown",
   "metadata": {},
   "source": [
    "## attempt at code for category optimization; need to think about this more"
   ]
  },
  {
   "cell_type": "code",
   "execution_count": null,
   "metadata": {},
   "outputs": [],
   "source": [
    "from itertools import combinations\n",
    "\n",
    "def calc_significance(signal, background, data, n_cats, bdt_variable='transformed_kin_bdt_james', drop_lowest=True):\n",
    "    if drop_lowest:\n",
    "        WPs = np.linspace(0.2, 0.9, num=8)\n",
    "        signal.query(f'{bdt_variable} > 0.1', inplace=True)\n",
    "        background.query(f'{bdt_variable} > 0.1', inplace=True)\n",
    "        n_bounds = n_cats\n",
    "    else:\n",
    "        WPs = np.linspace(0.1, 0.9, num=9)\n",
    "        n_bounds = n_cats - 1\n",
    "        \n",
    "    schemes = np.array(list(combinations(WPs, n_bounds)))\n",
    "    \n",
    "    significance = np.array([])\n",
    "    for scheme in tqdm(schemes):\n",
    "        lower_bound = 0.\n",
    "        tmp_significance = 0.\n",
    "        for WP in scheme:\n",
    "            if WP == np.max(scheme):\n",
    "                upper_bound = 1.\n",
    "            else:\n",
    "                upper_bound = WP\n",
    "            tmp_signal = signal.query(f'{lower_bound} < {bdt_variable} < {upper_bound}')\n",
    "            tmp_background = background.query(f'{lower_bound} < {bdt_variable} < {upper_bound}')\n",
    "            tmp_data = data.query(f'{lower_bound} < {bdt_variable} < {upper_bound}')                          \n",
    "\n",
    "            n_signal = np.sum(tmp_signal.eventWeight*tmp_signal.genWeight*tmp_signal.mc_sf*tmp_signal.pt_weight)\n",
    "            n_background = np.sum(tmp_background.eventWeight*tmp_background.genWeight*tmp_background.mc_sf*tmp_background.pt_weight)\n",
    "            tmp_significance += (n_signal**2)/n_background\n",
    "            lower_bound = WP\n",
    "                                  \n",
    "            # check if enough data stats for background modeling\n",
    "            fig, ax = plt.subplots()\n",
    "            h_test = ax.hist(tmp_data.llgMKin, bins=np.arange(115., 170., 1))\n",
    "            plt.close()\n",
    "            # print(h_test[0])\n",
    "            if 0 in h_test[0]:\n",
    "                print(f'THERE ARE NOT ENOUGH STATS! Throwing out scheme {scheme}')\n",
    "                tmp_significance = 0.\n",
    "                break\n",
    "                                  \n",
    "        significance = np.append(significance, tmp_significance)\n",
    "    max_significance = np.max(significance)\n",
    "    max_significance_ix = np.argmax(significance)\n",
    "    optimal_scheme = schemes[max_significance_ix]\n",
    "    \n",
    "    return max_significance, optimal_scheme"
   ]
  },
  {
   "cell_type": "code",
   "execution_count": null,
   "metadata": {},
   "outputs": [],
   "source": [
    "n_cat_options = np.linspace(1, 8, num=8, dtype='int')\n",
    "max_sig_list = np.array([])\n",
    "scheme_list = []\n",
    "for nc in tqdm(n_cat_options):\n",
    "    [max_sig, opt_scheme] = calc_significance(untagged_signal.copy(), untagged_background.copy(), \n",
    "                                              untagged_data.copy(), nc)\n",
    "    max_sig_list = np.append(max_sig_list, max_sig)\n",
    "    scheme_list.append(opt_scheme)\n",
    "scheme_list = np.array(scheme_list)"
   ]
  },
  {
   "cell_type": "code",
   "execution_count": null,
   "metadata": {},
   "outputs": [],
   "source": [
    "fig, ax = plt.subplots()\n",
    "ax.plot(n_cat_options, max_sig_list);\n",
    "ax.set_xlabel('number of categories');\n",
    "ax.set_ylabel('combined significance');\n",
    "ax.grid()"
   ]
  },
  {
   "cell_type": "code",
   "execution_count": null,
   "metadata": {},
   "outputs": [],
   "source": [
    "pct_diffs = 100*(max_sig_list[1:] - max_sig_list[:-1])/max_sig_list[:-1]\n",
    "\n",
    "fig, ax = plt.subplots()\n",
    "ax.plot(n_cat_options[1:], pct_diffs);\n",
    "ax.axhline(1, color='r');\n",
    "ax.grid();\n",
    "ax.set_xlabel('number of categories');\n",
    "ax.set_ylabel('percent improvement');"
   ]
  },
  {
   "cell_type": "code",
   "execution_count": null,
   "metadata": {},
   "outputs": [],
   "source": [
    "n_cats_chosen = 3\n",
    "scheme_list[n_cats_chosen-1]"
   ]
  },
  {
   "cell_type": "markdown",
   "metadata": {},
   "source": [
    "## same thing for dijet"
   ]
  },
  {
   "cell_type": "code",
   "execution_count": null,
   "metadata": {},
   "outputs": [],
   "source": [
    "n_cat_options = np.linspace(1, 9, num=9, dtype='int')\n",
    "max_sig_list = np.array([])\n",
    "scheme_list = []\n",
    "for nc in tqdm(n_cat_options):\n",
    "    [max_sig, opt_scheme] = calc_significance(dijet_signal.copy(), dijet_background.copy(), \n",
    "                                              dijet_data.copy(), nc, \n",
    "                                              bdt_variable='transformed_vbf_bdt_james', \n",
    "                                              drop_lowest=False)\n",
    "    max_sig_list = np.append(max_sig_list, max_sig)\n",
    "    scheme_list.append(opt_scheme)\n",
    "scheme_list = np.array(scheme_list)"
   ]
  },
  {
   "cell_type": "code",
   "execution_count": null,
   "metadata": {},
   "outputs": [],
   "source": [
    "fig, ax = plt.subplots()\n",
    "ax.plot(n_cat_options, max_sig_list);\n",
    "ax.set_xlabel('number of categories');\n",
    "ax.set_ylabel('combined significance');\n",
    "ax.grid()"
   ]
  },
  {
   "cell_type": "code",
   "execution_count": null,
   "metadata": {},
   "outputs": [],
   "source": [
    "pct_diffs = 100*(max_sig_list[1:] - max_sig_list[:-1])/max_sig_list[:-1]\n",
    "\n",
    "fig, ax = plt.subplots()\n",
    "ax.plot(n_cat_options[1:], pct_diffs);\n",
    "ax.axhline(1, color='r');\n",
    "ax.grid();\n",
    "ax.set_xlabel('number of categories');\n",
    "ax.set_ylabel('percent improvement');"
   ]
  },
  {
   "cell_type": "code",
   "execution_count": null,
   "metadata": {},
   "outputs": [],
   "source": [
    "pct_diffs"
   ]
  },
  {
   "cell_type": "code",
   "execution_count": null,
   "metadata": {},
   "outputs": [],
   "source": [
    "n_cats_chosen = 4\n",
    "scheme_list[n_cats_chosen-1]"
   ]
  },
  {
   "cell_type": "code",
   "execution_count": null,
   "metadata": {},
   "outputs": [],
   "source": []
  }
 ],
 "metadata": {
  "kernelspec": {
   "display_name": "Python 3",
   "language": "python",
   "name": "python3"
  },
  "language_info": {
   "codemirror_mode": {
    "name": "ipython",
    "version": 3
   },
   "file_extension": ".py",
   "mimetype": "text/x-python",
   "name": "python",
   "nbconvert_exporter": "python",
   "pygments_lexer": "ipython3",
   "version": "3.7.1"
  }
 },
 "nbformat": 4,
 "nbformat_minor": 2
}
